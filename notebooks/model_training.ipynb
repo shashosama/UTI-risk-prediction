{
 "cells": [
  {
   "cell_type": "code",
   "execution_count": null,
   "id": "39bda269",
   "metadata": {
    "vscode": {
     "languageId": "plaintext"
    }
   },
   "outputs": [],
   "source": [
    "from src.preprocess import load_data\n",
    "from src.train_model import train_and_save\n",
    "from src.evaluate import evaluate_model\n",
    "import joblib\n",
    "\n",
    "X_train, X_test, y_train, y_test = load_data()\n",
    "train_and_save(X_train, y_train)\n",
    "model = joblib.load(\"model.joblib\")\n",
    "evaluate_model(model, X_test, y_test)\n",
    "\n"
   ]
  }
 ],
 "metadata": {
  "language_info": {
   "name": "python"
  }
 },
 "nbformat": 4,
 "nbformat_minor": 5
}
