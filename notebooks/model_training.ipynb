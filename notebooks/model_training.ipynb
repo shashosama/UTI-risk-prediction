{
 "cells": [
  {
   "cell_type": "code",
   "execution_count": 8,
   "id": "0c155e06",
   "metadata": {},
   "outputs": [],
   "source": [
    "import sys\n",
    "import os\n",
    "import joblib\n"
   ]
  },
  {
   "cell_type": "code",
   "execution_count": 9,
   "id": "49f513fd",
   "metadata": {},
   "outputs": [],
   "source": [
    "sys.path.append(os.path.abspath(os.path.join(os.getcwd(), \"..\")))"
   ]
  },
  {
   "cell_type": "code",
   "execution_count": 10,
   "id": "1aa329e7",
   "metadata": {},
   "outputs": [],
   "source": [
    "from src.train_model import train_and_save\n",
    "from src.evaluate import evaluate_model\n",
    "from src.preprocess import load_data\n"
   ]
  },
  {
   "cell_type": "code",
   "execution_count": 11,
   "id": "d50469c0",
   "metadata": {},
   "outputs": [
    {
     "name": "stdout",
     "output_type": "stream",
     "text": [
      "Loading data from: /workspaces/UTI-risk-prediction/data/uti_real_data.csv\n",
      "     Temperature of patient  Occurrence of nausea  Lumbar pain  \\\n",
      "110                    41.2                     1            1   \n",
      "50                     37.7                     0            1   \n",
      "93                     40.7                     1            1   \n",
      "12                     36.6                     0            1   \n",
      "26                     37.0                     0            0   \n",
      "\n",
      "     Urine pushing (continuous need for urination)  Micturition pains  \\\n",
      "110                                              1                  1   \n",
      "50                                               0                  0   \n",
      "93                                               1                  1   \n",
      "12                                               0                  0   \n",
      "26                                               1                  1   \n",
      "\n",
      "     Burning of urethra, itch, swelling of urethra outlet  \\\n",
      "110                                                  1      \n",
      "50                                                   0      \n",
      "93                                                   0      \n",
      "12                                                   0      \n",
      "26                                                   1      \n",
      "\n",
      "    Nephritis of renal pelvis origin  symptom_score  \n",
      "110                              yes              5  \n",
      "50                                no              1  \n",
      "93                               yes              4  \n",
      "12                                no              1  \n",
      "26                                no              3  \n",
      "110    1\n",
      "50     0\n",
      "93     1\n",
      "12     0\n",
      "26     1\n",
      "Name: Inflammation of urinary bladder, dtype: int64\n"
     ]
    }
   ],
   "source": [
    "# Load data (prints resolved path for confirmation)\n",
    "from src.preprocess import load_data\n",
    "\n",
    "X_train, X_test, y_train, y_test = load_data()\n",
    "print(X_train.head())\n",
    "print(y_train.head())\n"
   ]
  },
  {
   "cell_type": "code",
   "execution_count": 12,
   "id": "0061ee95",
   "metadata": {},
   "outputs": [
    {
     "name": "stdout",
     "output_type": "stream",
     "text": [
      "Temperature of patient                                  float64\n",
      "Occurrence of nausea                                      int64\n",
      "Lumbar pain                                               int64\n",
      "Urine pushing (continuous need for urination)             int64\n",
      "Micturition pains                                         int64\n",
      "Burning of urethra, itch, swelling of urethra outlet      int64\n",
      "Nephritis of renal pelvis origin                         object\n",
      "symptom_score                                             int64\n",
      "dtype: object\n",
      "     Temperature of patient  Occurrence of nausea  Lumbar pain  \\\n",
      "110                    41.2                     1            1   \n",
      "50                     37.7                     0            1   \n",
      "93                     40.7                     1            1   \n",
      "12                     36.6                     0            1   \n",
      "26                     37.0                     0            0   \n",
      "\n",
      "     Urine pushing (continuous need for urination)  Micturition pains  \\\n",
      "110                                              1                  1   \n",
      "50                                               0                  0   \n",
      "93                                               1                  1   \n",
      "12                                               0                  0   \n",
      "26                                               1                  1   \n",
      "\n",
      "     Burning of urethra, itch, swelling of urethra outlet  \\\n",
      "110                                                  1      \n",
      "50                                                   0      \n",
      "93                                                   0      \n",
      "12                                                   0      \n",
      "26                                                   1      \n",
      "\n",
      "    Nephritis of renal pelvis origin  symptom_score  \n",
      "110                              yes              5  \n",
      "50                                no              1  \n",
      "93                               yes              4  \n",
      "12                                no              1  \n",
      "26                                no              3  \n"
     ]
    }
   ],
   "source": [
    "print(X_train.dtypes)\n",
    "print(X_train.head())\n"
   ]
  },
  {
   "cell_type": "code",
   "execution_count": 13,
   "id": "fc3ad977",
   "metadata": {},
   "outputs": [],
   "source": [
    "X_train = X_train.drop(columns=[\"Nephritis of renal pelvis origin\"])\n",
    "X_test = X_test.drop(columns=[\"Nephritis of renal pelvis origin\"])\n"
   ]
  },
  {
   "cell_type": "code",
   "execution_count": 14,
   "id": "fcdf6321",
   "metadata": {},
   "outputs": [
    {
     "name": "stdout",
     "output_type": "stream",
     "text": [
      "Temperature of patient                                  float64\n",
      "Occurrence of nausea                                      int64\n",
      "Lumbar pain                                               int64\n",
      "Urine pushing (continuous need for urination)             int64\n",
      "Micturition pains                                         int64\n",
      "Burning of urethra, itch, swelling of urethra outlet      int64\n",
      "symptom_score                                             int64\n",
      "dtype: object\n"
     ]
    }
   ],
   "source": [
    "print(X_train.dtypes)\n"
   ]
  },
  {
   "cell_type": "code",
   "execution_count": 15,
   "id": "bedcd4a9",
   "metadata": {},
   "outputs": [
    {
     "name": "stdout",
     "output_type": "stream",
     "text": [
      "Model trained and saved to model/uti_model.pkl\n"
     ]
    }
   ],
   "source": [
    "train_and_save(X_train, y_train)\n"
   ]
  },
  {
   "cell_type": "code",
   "execution_count": 17,
   "id": "3d70590d",
   "metadata": {},
   "outputs": [],
   "source": [
    "model = joblib.load(\"model/uti_model.pkl\")\n"
   ]
  },
  {
   "cell_type": "code",
   "execution_count": 18,
   "id": "390621dc",
   "metadata": {},
   "outputs": [
    {
     "name": "stdout",
     "output_type": "stream",
     "text": [
      "              precision    recall  f1-score   support\n",
      "\n",
      "           0       1.00      1.00      1.00        12\n",
      "           1       1.00      1.00      1.00        12\n",
      "\n",
      "    accuracy                           1.00        24\n",
      "   macro avg       1.00      1.00      1.00        24\n",
      "weighted avg       1.00      1.00      1.00        24\n",
      "\n",
      "ROC AUC: 1.0\n"
     ]
    },
    {
     "data": {
      "image/png": "[encoded data removed]",
      "text/plain": [
       "<Figure size 640x480 with 2 Axes>"
      ]
     },
     "metadata": {},
     "output_type": "display_data"
    },
    {
     "data": {
      "image/png": "[encoded data removed]",
      "text/plain": [
       "<Figure size 640x480 with 1 Axes>"
      ]
     },
     "metadata": {},
     "output_type": "display_data"
    }
   ],
   "source": [
    "evaluate_model(model, X_test, y_test)"
   ]
  },
  {
   "cell_type": "code",
   "execution_count": 19,
   "id": "f9643747",
   "metadata": {},
   "outputs": [
    {
     "data": {
      "text/plain": [
       "['../uti_model.pkl']"
      ]
     },
     "execution_count": 19,
     "metadata": {},
     "output_type": "execute_result"
    }
   ],
   "source": [
    "joblib.dump(model, \"../uti_model.pkl\")"
   ]
  }
 ],
 "metadata": {
  "kernelspec": {
   "display_name": "Python 3",
   "language": "python",
   "name": "python3"
  },
  "language_info": {
   "codemirror_mode": {
    "name": "ipython",
    "version": 3
   },
   "file_extension": ".py",
   "mimetype": "text/x-python",
   "name": "python",
   "nbconvert_exporter": "python",
   "pygments_lexer": "ipython3",
   "version": "3.12.1"
  }
 },
 "nbformat": 4,
 "nbformat_minor": 5
}
